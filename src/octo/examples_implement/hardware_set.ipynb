{
 "cells": [
  {
   "cell_type": "code",
   "execution_count": 9,
   "metadata": {},
   "outputs": [
    {
     "ename": "error",
     "evalue": "OpenCV(4.10.0) /io/opencv/modules/highgui/src/window.cpp:1301: error: (-2:Unspecified error) The function is not implemented. Rebuild the library with Windows, GTK+ 2.x or Cocoa support. If you are on Ubuntu or Debian, install libgtk2.0-dev and pkg-config, then re-run cmake or configure script in function 'cvShowImage'\n",
     "output_type": "error",
     "traceback": [
      "\u001b[0;31m---------------------------------------------------------------------------\u001b[0m",
      "\u001b[0;31merror\u001b[0m                                     Traceback (most recent call last)",
      "Cell \u001b[0;32mIn[9], line 22\u001b[0m\n\u001b[1;32m     20\u001b[0m \u001b[38;5;28;01mimport\u001b[39;00m \u001b[38;5;21;01mcv2\u001b[39;00m\n\u001b[1;32m     21\u001b[0m img\u001b[38;5;241m=\u001b[39mcv2\u001b[38;5;241m.\u001b[39mimread(\u001b[38;5;124m\"\u001b[39m\u001b[38;5;124m/home/lab/hx/ICCUB_ws/src/octo/examples/last_pic/pick_up_something_2024-08-10-21-29-43_last_img.png\u001b[39m\u001b[38;5;124m\"\u001b[39m)\n\u001b[0;32m---> 22\u001b[0m \u001b[43mcv2\u001b[49m\u001b[38;5;241;43m.\u001b[39;49m\u001b[43mimshow\u001b[49m\u001b[43m(\u001b[49m\u001b[38;5;124;43m\"\u001b[39;49m\u001b[38;5;124;43mimg\u001b[39;49m\u001b[38;5;124;43m\"\u001b[39;49m\u001b[43m,\u001b[49m\u001b[43mimg\u001b[49m\u001b[43m)\u001b[49m\n",
      "\u001b[0;31merror\u001b[0m: OpenCV(4.10.0) /io/opencv/modules/highgui/src/window.cpp:1301: error: (-2:Unspecified error) The function is not implemented. Rebuild the library with Windows, GTK+ 2.x or Cocoa support. If you are on Ubuntu or Debian, install libgtk2.0-dev and pkg-config, then re-run cmake or configure script in function 'cvShowImage'\n"
     ]
    }
   ],
   "source": [
    "import numpy as np\n",
    "def normalize(data, metadata):\n",
    "    mask = metadata.get(\"mask\", np.ones_like(metadata[\"mean\"], dtype=bool))\n",
    "    return np.where(\n",
    "        mask,\n",
    "        (data - np.array(metadata[\"mean\"])) / (np.array(metadata[\"std\"]) + 1e-8),\n",
    "        data,\n",
    "    )\n",
    "array = np.array([1, 2, 3, 4, 5])\n",
    "metadata = {\"mean\": np.array([2, 3, 4, 5, 6]),\\\n",
    "            \"mask\": np.array([True, True, True, True, False])\\\n",
    "            ,\"std\":np.array([1, 1, 1, 1, 1])}  \n",
    "\n",
    "normalize(array, metadata)\n",
    "\n",
    "GRIPPER_OPEN_STATE = \"[0, 30, 0, 0, 0, 0, 0, 30, 0, 0, 0, 0]\"\n",
    "GRIPPER_CLOSE_STATE = \"[30, 30, 90, 90, 90, 90, 30, 30, 90, 90, 90, 90]\"\n",
    "list(map(int, GRIPPER_OPEN_STATE[1:-1].split(\", \")))\n",
    "\n",
    "import cv2\n",
    "img=cv2.imread(\"/home/lab/hx/ICCUB_ws/src/octo/examples/last_pic/pick_up_something_2024-08-10-21-29-43_last_img.png\")\n",
    "cv2.imshow(\"img\",img)"
   ]
  },
  {
   "cell_type": "markdown",
   "metadata": {},
   "source": [
    "# 0721\n",
    "1. 原第三方cam：高度离地125\n",
    "1. 新第三方cam：高度离地94.5\n",
    "2. "
   ]
  }
 ],
 "metadata": {
  "kernelspec": {
   "display_name": "octo",
   "language": "python",
   "name": "python3"
  },
  "language_info": {
   "codemirror_mode": {
    "name": "ipython",
    "version": 3
   },
   "file_extension": ".py",
   "mimetype": "text/x-python",
   "name": "python",
   "nbconvert_exporter": "python",
   "pygments_lexer": "ipython3",
   "version": "3.10.14"
  }
 },
 "nbformat": 4,
 "nbformat_minor": 2
}
