{
 "cells": [
  {
   "cell_type": "code",
   "execution_count": null,
   "metadata": {},
   "outputs": [],
   "source": [
    "import jax\n",
    "import jax.numpy as jnp\n",
    "\n",
    "# Check available devices\n",
    "devices = jax.devices()\n",
    "print(devices)  # This will list available GPUs or TPUs\n",
    "\n",
    "# Example computation on GPU\n",
    "x_gpu = jax.device_put(jnp.ones((5000, 5000)))  # Move data to GPU\n",
    "y_gpu = jax.device_put(jnp.ones((5000, 5000)))  # Move data to GPU\n",
    "\n",
    "# Perform computation on GPU\n",
    "result_gpu = x_gpu + y_gpu\n",
    "print(result_gpu)\n",
    "# # Fetch result back to CPU if needed\n",
    "# result_cpu = result_gpu.copy_to_host()\n"
   ]
  },
  {
   "cell_type": "code",
   "execution_count": null,
   "metadata": {},
   "outputs": [],
   "source": []
  }
 ],
 "metadata": {
  "kernelspec": {
   "display_name": "octo",
   "language": "python",
   "name": "python3"
  },
  "language_info": {
   "codemirror_mode": {
    "name": "ipython",
    "version": 3
   },
   "file_extension": ".py",
   "mimetype": "text/x-python",
   "name": "python",
   "nbconvert_exporter": "python",
   "pygments_lexer": "ipython3",
   "version": "3.10.14"
  }
 },
 "nbformat": 4,
 "nbformat_minor": 2
}
